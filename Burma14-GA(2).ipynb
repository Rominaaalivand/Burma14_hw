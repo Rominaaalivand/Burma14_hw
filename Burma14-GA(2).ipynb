{
 "cells": [
  {
   "cell_type": "code",
   "execution_count": 1,
   "id": "96d1f4cf-a51d-4b26-b16e-4d2688f81129",
   "metadata": {
    "tags": []
   },
   "outputs": [],
   "source": [
    "import numpy as np\n",
    "from random import randint as rnd\n",
    "from random import shuffle"
   ]
  },
  {
   "cell_type": "code",
   "execution_count": 2,
   "id": "9bfb5f24-9899-467f-afcc-3b9e821fba76",
   "metadata": {
    "tags": []
   },
   "outputs": [],
   "source": [
    "city_list = [[16.47  ,     96.10],\n",
    "[16.47   ,    94.44],\n",
    "[20.09   ,    92.54],\n",
    "[22.39   ,    93.37],\n",
    "[25.23   ,    97.24],\n",
    "[22.00   ,    96.05],\n",
    "[20.47   ,    97.02],\n",
    "[17.20   ,    96.29],\n",
    "[16.30   ,    97.38],\n",
    "[14.05   ,    98.12],\n",
    "[16.53   ,    97.38],\n",
    "[21.52   ,    95.59],\n",
    "[19.41   ,    97.13],\n",
    "[20.09   ,    94.55]]"
   ]
  },
  {
   "cell_type": "code",
   "execution_count": 3,
   "id": "07eedee6-52ba-4e5d-86d0-91b2c0496664",
   "metadata": {
    "tags": []
   },
   "outputs": [],
   "source": [
    "N_CITIES= len(city_list)\n",
    "POPULATION_SIZE=300\n",
    "EPOCH=1000 #Tedad nasl"
   ]
  },
  {
   "cell_type": "code",
   "execution_count": 4,
   "id": "2caebed4-8f45-4254-b135-a5b917ff67f1",
   "metadata": {},
   "outputs": [],
   "source": [
    "def init_population(n,ps):\n",
    "    population_list=[]\n",
    "    for i in range(ps):\n",
    "        path=[i for i in range(n)]\n",
    "        shuffle(path)\n",
    "        path+=[None]\n",
    "        population_list.append(path)\n",
    "    return population_list"
   ]
  },
  {
   "cell_type": "code",
   "execution_count": 5,
   "id": "edd183e2-c392-47ef-87c6-b50b07b25288",
   "metadata": {
    "tags": []
   },
   "outputs": [],
   "source": [
    "def cross_over(population_list,n,ps):\n",
    "    for i in range(ps):\n",
    "        path=population_list[i][:n]+[None]\n",
    "        population_list.append(path)\n",
    "    return population_list"
   ]
  },
  {
   "cell_type": "code",
   "execution_count": 6,
   "id": "1de13a05-e21f-4095-a9d7-623c9cc58de9",
   "metadata": {
    "tags": []
   },
   "outputs": [],
   "source": [
    "def mutation(population_list,n,p):\n",
    "    length=p*2\n",
    "    i=p\n",
    "    while i<length:\n",
    "        cell1=rnd(0,n-1)\n",
    "        cell2=rnd(0,n-1)\n",
    "        if cell1!=cell2:\n",
    "            population_list[i][cell1],population_list[i][cell2]=population_list[i][cell2],population_list[i][cell1]\n",
    "            i+=1\n",
    "        return population_list"
   ]
  },
  {
   "cell_type": "code",
   "execution_count": 7,
   "id": "082bc8af-e194-4967-8fb0-97eb6abf697d",
   "metadata": {
    "tags": []
   },
   "outputs": [],
   "source": [
    "def converter(location_list,paths):\n",
    "    converted=[]\n",
    "    for i in paths:\n",
    "        converted.append(location_list[i])\n",
    "    return converted"
   ]
  },
  {
   "cell_type": "code",
   "execution_count": 8,
   "id": "c120d2af-cb34-447e-94c8-d8bffabe6a49",
   "metadata": {
    "tags": []
   },
   "outputs": [],
   "source": [
    "def distance(path):\n",
    "    dis=0\n",
    "    for i in range(len(path)-1):\n",
    "        dis+=np.sqrt((path[i][0]-path[i+1][0])**2+(path[i][1]-path[i+1][1])**2)#fasele x o y az ham\n",
    "    return dis\n",
    "def fitness(population_list,n,locations):\n",
    "    for i in range (len(population_list)):\n",
    "        if population_list[i][-1]==None:\n",
    "            currect_path=converter(locations, population_list[i][:n]+[population_list[i][0]])#:n yani az index 0 ta 13 ,[i][0] noghte strat ro be akhare list ezafe mikonim\n",
    "            d=distance(currect_path)\n",
    "            population_list[i][n]=d\n",
    "    return population_list"
   ]
  },
  {
   "cell_type": "code",
   "execution_count": 9,
   "id": "e71b27b5-d2e0-4fdd-a603-470160fff4a0",
   "metadata": {},
   "outputs": [],
   "source": [
    "def sorter (population_list,k):\n",
    "    population_list.sort(key=lambda x: x[k]) #k:index akhar ,sort nesbat be index akhar\n",
    "    return population_list"
   ]
  },
  {
   "cell_type": "code",
   "execution_count": 10,
   "id": "983ce1f4-ff74-4361-b3ea-156036351da5",
   "metadata": {
    "tags": []
   },
   "outputs": [
    {
     "name": "stdout",
     "output_type": "stream",
     "text": [
      "[13, 1, 7, 0, 9, 8, 10, 12, 6, 11, 5, 4, 3, 2, 31.208766207101622]\n"
     ]
    }
   ],
   "source": [
    "if __name__==\"__main__\":#blocke ejraii\n",
    "    cities_locations=city_list\n",
    "    current_population=init_population(N_CITIES,POPULATION_SIZE)\n",
    "    \n",
    "    \n",
    "    for i in range(EPOCH):\n",
    "        current_population=cross_over(current_population,N_CITIES,POPULATION_SIZE)#300 farzand mesle pedr misazim\n",
    "        current_population=mutation(current_population,N_CITIES,POPULATION_SIZE)#2 index random pedar ro swap mikonim\n",
    "        current_population=fitness(current_population,N_CITIES,cities_locations)#distance ro hesab mikone va jaye NOne mizare \n",
    "        current_population=sorter(current_population,N_CITIES)#nesbat be distance sort az kamtar be bishtar\n",
    "        current_population=current_population[:POPULATION_SIZE]#300 ta az behtarin distance ha save mishan\n",
    "        #be ezaye tedade nasl(EPOCH) halghe tekrar mishavad va harbar jamiat update shode va fit tar mishe \n",
    "        \n",
    "     #bad az akharin nasl else ejra mishe   \n",
    "    else:\n",
    "        print(current_population[0])"
   ]
  },
  {
   "cell_type": "code",
   "execution_count": null,
   "id": "51e901e9-4aab-4bdd-a32e-5b542a7a584b",
   "metadata": {},
   "outputs": [],
   "source": []
  }
 ],
 "metadata": {
  "kernelspec": {
   "display_name": "Python 3 (ipykernel)",
   "language": "python",
   "name": "python3"
  },
  "language_info": {
   "codemirror_mode": {
    "name": "ipython",
    "version": 3
   },
   "file_extension": ".py",
   "mimetype": "text/x-python",
   "name": "python",
   "nbconvert_exporter": "python",
   "pygments_lexer": "ipython3",
   "version": "3.11.5"
  }
 },
 "nbformat": 4,
 "nbformat_minor": 5
}
